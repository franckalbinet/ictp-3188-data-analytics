{
 "cells": [
  {
   "cell_type": "markdown",
   "metadata": {},
   "source": [
    "# EXPLORATORY DATA ANALYSIS\n",
    "<a id='pres-title'></a>"
   ]
  },
  {
   "cell_type": "markdown",
   "metadata": {},
   "source": [
    "## Table of content\n",
    "* [I. INTRODUCTION](#introduction)\n",
    "* [II. MATPLOTLIB PRIMER](#matplotlib-primer)\n",
    "* [III. DATA VISUALIZATION PRIMER](#data-visualization)\n",
    "* [IV. EDA MINDSET](#eda-mindset)\n",
    "* [V. CLUSTERING WITH K-MEANS](#k-means)"
   ]
  },
  {
   "cell_type": "markdown",
   "metadata": {},
   "source": [
    "# I. INTRODUCTION\n",
    "<a id=\"introduction\"></a>\n",
    "___"
   ]
  },
  {
   "cell_type": "markdown",
   "metadata": {},
   "source": [
    "## ▸ Main objectives\n",
    "___\n",
    "\n",
    "* To understand why Exploratory Data Analysis (EDA) is a **key step in data analytics**\n",
    "* To be aware of **Data Visualization best practices**\n",
    "* To harness **Python ecosystem for EDA**: matplotlib, pandas, ...\n",
    "* To understand the complementarity of **quantitative and graphical EDA**\n",
    "* To identify patterns and clusters with K-means algorithm\n",
    "\n",
    "\n",
    "### References\n",
    "* Companion notebook: FM7/notebooks/4-exploratory-data-analysis.ipynb\n",
    "* [notebooks/pydata-book](notebooks/pydata-book)\n",
    "* https://www.labri.fr/perso/nrougier/teaching/matplotlib/"
   ]
  },
  {
   "cell_type": "markdown",
   "metadata": {},
   "source": [
    "## ▸ EDA motivation\n",
    "___\n",
    "\n",
    "* To get acquainted **gain insights** on \"never-seen\" dataset\n",
    "* To **check assumptions** required by modeling approaches\n",
    "* To identify **potential correlation** between variables\n",
    "* To identify **potential similarities and clusters**\n",
    "* ..."
   ]
  },
  {
   "cell_type": "markdown",
   "metadata": {},
   "source": [
    "## ▸ EDA as a detective work\n",
    "___\n",
    "\n",
    "* In its tabular form, data is **not really conducive to interpretation**\n",
    "* Quest is to **find the \"angle of view\"** that will suddenly reveal never expected properties\n",
    "* But it is a **subtle game** and require careful interpretation and critical thinking\n",
    "\n",
    "\n",
    "### Notes\n",
    "* For instance, human eyes-brain system is extremely good at finding patterns where there is no clear evidence of such presence\n",
    "* Probability and Statistics definitely help accurate statements about what is only due to chance and what is not\n",
    "* For instance a EDA workflow might be: check descriptive statistics such as mean temperature, standard deviation, min/max, ... then plotting histgrams of value for all data, then by various category, map it it this is georeferenced, or time line if there is a time component, identify clusters and iterate ..."
   ]
  },
  {
   "cell_type": "markdown",
   "metadata": {},
   "source": [
    "## ▸ Does correlation imply causation?\n",
    "___\n",
    "\n",
    "![correlation.png](img/correlation.png)\n",
    "\n",
    "### References\n",
    "\n",
    "* [https://www.xkcd.com/552/](https://www.xkcd.com/552/)\n",
    "* [https://www.explainxkcd.com/wiki/index.php/552:_Correlation](https://www.explainxkcd.com/wiki/index.php/552:_Correlation)\n",
    "\n",
    "### Notes\n",
    "* For instance, you observe a dataset of House prices in a suburbs of a city reveals that homes value is correlated to the percentage of lower status of the population in its neighborhood. Is home value caused by the percentage of lower status of the population? Is the opposite right? \n",
    "* Is the question even relevant given that your are solely focused on predicting home values? \n",
    "* It points the difference between explaining and predicting"
   ]
  },
  {
   "cell_type": "markdown",
   "metadata": {},
   "source": [
    "## ▸ Why quantitative AND graphical EDA?\n",
    "___\n",
    "\n",
    "![anscombe-quartet.png](img/anscombe-quartet.png)\n",
    "\n",
    "### References\n",
    "* [https://en.wikipedia.org/wiki/Anscombe%27s_quartet](https://en.wikipedia.org/wiki/Anscombe%27s_quartet)\n",
    "\n",
    "### Notes\n",
    "* **Anscombe's quartet** comprises four datasets with the same mean, variance, correlation coefficient, linear regression line. Quantitative EDA might let think they are the same, but when looking at their scatter plots they are clearly different.\n"
   ]
  },
  {
   "cell_type": "markdown",
   "metadata": {},
   "source": [
    "## ▸ Anscombe's Quartet [Notebook Live Demo]\n",
    "___\n",
    "\n",
    "* Taking a quick look at rows, columns\n",
    "* Computing summary statistics\n",
    "* Performing linear regression\n",
    "* Plotting scatter plots\n",
    "\n",
    "\n",
    "### Notes\n",
    "* [Teacher] Dedicate 5-10 min to the code snippet below showing and executing code live\n",
    "* [Student] Be sure to run and understand the following code snippets before answering module's assignment\n",
    "* Correlation coeff., linear regression will be covered in details later on. "
   ]
  },
  {
   "cell_type": "markdown",
   "metadata": {},
   "source": [
    "#### Load dataset using Pandas"
   ]
  },
  {
   "cell_type": "code",
   "execution_count": 9,
   "metadata": {
    "collapsed": true
   },
   "outputs": [],
   "source": [
    "import pandas as pd\n",
    "import matplotlib.pyplot as plt\n",
    "%matplotlib inline\n",
    "\n",
    "anscombe = pd.read_csv('data/anscombe.csv')"
   ]
  },
  {
   "cell_type": "markdown",
   "metadata": {},
   "source": [
    "#### Visualizing first and last rows"
   ]
  },
  {
   "cell_type": "code",
   "execution_count": 10,
   "metadata": {},
   "outputs": [
    {
     "data": {
      "text/html": [
       "<div>\n",
       "<style>\n",
       "    .dataframe thead tr:only-child th {\n",
       "        text-align: right;\n",
       "    }\n",
       "\n",
       "    .dataframe thead th {\n",
       "        text-align: left;\n",
       "    }\n",
       "\n",
       "    .dataframe tbody tr th {\n",
       "        vertical-align: top;\n",
       "    }\n",
       "</style>\n",
       "<table border=\"1\" class=\"dataframe\">\n",
       "  <thead>\n",
       "    <tr style=\"text-align: right;\">\n",
       "      <th></th>\n",
       "      <th>x1</th>\n",
       "      <th>y1</th>\n",
       "      <th>x2</th>\n",
       "      <th>y2</th>\n",
       "      <th>x3</th>\n",
       "      <th>y3</th>\n",
       "      <th>x4</th>\n",
       "      <th>y4</th>\n",
       "    </tr>\n",
       "  </thead>\n",
       "  <tbody>\n",
       "    <tr>\n",
       "      <th>0</th>\n",
       "      <td>10.0</td>\n",
       "      <td>8.04</td>\n",
       "      <td>10.0</td>\n",
       "      <td>9.14</td>\n",
       "      <td>10.0</td>\n",
       "      <td>7.46</td>\n",
       "      <td>8.0</td>\n",
       "      <td>6.58</td>\n",
       "    </tr>\n",
       "    <tr>\n",
       "      <th>1</th>\n",
       "      <td>8.0</td>\n",
       "      <td>6.95</td>\n",
       "      <td>8.0</td>\n",
       "      <td>8.14</td>\n",
       "      <td>8.0</td>\n",
       "      <td>6.77</td>\n",
       "      <td>8.0</td>\n",
       "      <td>5.76</td>\n",
       "    </tr>\n",
       "    <tr>\n",
       "      <th>2</th>\n",
       "      <td>13.0</td>\n",
       "      <td>7.58</td>\n",
       "      <td>13.0</td>\n",
       "      <td>8.74</td>\n",
       "      <td>13.0</td>\n",
       "      <td>12.74</td>\n",
       "      <td>8.0</td>\n",
       "      <td>7.71</td>\n",
       "    </tr>\n",
       "    <tr>\n",
       "      <th>3</th>\n",
       "      <td>9.0</td>\n",
       "      <td>8.81</td>\n",
       "      <td>9.0</td>\n",
       "      <td>8.77</td>\n",
       "      <td>9.0</td>\n",
       "      <td>7.11</td>\n",
       "      <td>8.0</td>\n",
       "      <td>8.84</td>\n",
       "    </tr>\n",
       "    <tr>\n",
       "      <th>4</th>\n",
       "      <td>11.0</td>\n",
       "      <td>8.33</td>\n",
       "      <td>11.0</td>\n",
       "      <td>9.26</td>\n",
       "      <td>11.0</td>\n",
       "      <td>7.81</td>\n",
       "      <td>8.0</td>\n",
       "      <td>8.47</td>\n",
       "    </tr>\n",
       "  </tbody>\n",
       "</table>\n",
       "</div>"
      ],
      "text/plain": [
       "     x1    y1    x2    y2    x3     y3   x4    y4\n",
       "0  10.0  8.04  10.0  9.14  10.0   7.46  8.0  6.58\n",
       "1   8.0  6.95   8.0  8.14   8.0   6.77  8.0  5.76\n",
       "2  13.0  7.58  13.0  8.74  13.0  12.74  8.0  7.71\n",
       "3   9.0  8.81   9.0  8.77   9.0   7.11  8.0  8.84\n",
       "4  11.0  8.33  11.0  9.26  11.0   7.81  8.0  8.47"
      ]
     },
     "execution_count": 10,
     "metadata": {},
     "output_type": "execute_result"
    }
   ],
   "source": [
    "anscombe.head()"
   ]
  },
  {
   "cell_type": "code",
   "execution_count": 11,
   "metadata": {
    "collapsed": true
   },
   "outputs": [],
   "source": [
    "# x1, y1 is the first dataset, x2, y2 the second one, ..."
   ]
  },
  {
   "cell_type": "code",
   "execution_count": 12,
   "metadata": {},
   "outputs": [
    {
     "data": {
      "text/html": [
       "<div>\n",
       "<style>\n",
       "    .dataframe thead tr:only-child th {\n",
       "        text-align: right;\n",
       "    }\n",
       "\n",
       "    .dataframe thead th {\n",
       "        text-align: left;\n",
       "    }\n",
       "\n",
       "    .dataframe tbody tr th {\n",
       "        vertical-align: top;\n",
       "    }\n",
       "</style>\n",
       "<table border=\"1\" class=\"dataframe\">\n",
       "  <thead>\n",
       "    <tr style=\"text-align: right;\">\n",
       "      <th></th>\n",
       "      <th>x1</th>\n",
       "      <th>y1</th>\n",
       "      <th>x2</th>\n",
       "      <th>y2</th>\n",
       "      <th>x3</th>\n",
       "      <th>y3</th>\n",
       "      <th>x4</th>\n",
       "      <th>y4</th>\n",
       "    </tr>\n",
       "  </thead>\n",
       "  <tbody>\n",
       "    <tr>\n",
       "      <th>6</th>\n",
       "      <td>6.0</td>\n",
       "      <td>7.24</td>\n",
       "      <td>6.0</td>\n",
       "      <td>6.13</td>\n",
       "      <td>6.0</td>\n",
       "      <td>6.08</td>\n",
       "      <td>8.0</td>\n",
       "      <td>5.25</td>\n",
       "    </tr>\n",
       "    <tr>\n",
       "      <th>7</th>\n",
       "      <td>4.0</td>\n",
       "      <td>4.26</td>\n",
       "      <td>4.0</td>\n",
       "      <td>3.10</td>\n",
       "      <td>4.0</td>\n",
       "      <td>5.39</td>\n",
       "      <td>19.0</td>\n",
       "      <td>12.50</td>\n",
       "    </tr>\n",
       "    <tr>\n",
       "      <th>8</th>\n",
       "      <td>12.0</td>\n",
       "      <td>10.84</td>\n",
       "      <td>12.0</td>\n",
       "      <td>9.13</td>\n",
       "      <td>12.0</td>\n",
       "      <td>8.15</td>\n",
       "      <td>8.0</td>\n",
       "      <td>5.56</td>\n",
       "    </tr>\n",
       "    <tr>\n",
       "      <th>9</th>\n",
       "      <td>7.0</td>\n",
       "      <td>4.82</td>\n",
       "      <td>7.0</td>\n",
       "      <td>7.26</td>\n",
       "      <td>7.0</td>\n",
       "      <td>6.42</td>\n",
       "      <td>8.0</td>\n",
       "      <td>7.91</td>\n",
       "    </tr>\n",
       "    <tr>\n",
       "      <th>10</th>\n",
       "      <td>5.0</td>\n",
       "      <td>5.68</td>\n",
       "      <td>5.0</td>\n",
       "      <td>4.74</td>\n",
       "      <td>5.0</td>\n",
       "      <td>5.73</td>\n",
       "      <td>8.0</td>\n",
       "      <td>6.89</td>\n",
       "    </tr>\n",
       "  </tbody>\n",
       "</table>\n",
       "</div>"
      ],
      "text/plain": [
       "      x1     y1    x2    y2    x3    y3    x4     y4\n",
       "6    6.0   7.24   6.0  6.13   6.0  6.08   8.0   5.25\n",
       "7    4.0   4.26   4.0  3.10   4.0  5.39  19.0  12.50\n",
       "8   12.0  10.84  12.0  9.13  12.0  8.15   8.0   5.56\n",
       "9    7.0   4.82   7.0  7.26   7.0  6.42   8.0   7.91\n",
       "10   5.0   5.68   5.0  4.74   5.0  5.73   8.0   6.89"
      ]
     },
     "execution_count": 12,
     "metadata": {},
     "output_type": "execute_result"
    }
   ],
   "source": [
    "anscombe.tail()"
   ]
  },
  {
   "cell_type": "markdown",
   "metadata": {},
   "source": [
    "#### Quick statistics summary"
   ]
  },
  {
   "cell_type": "code",
   "execution_count": 13,
   "metadata": {},
   "outputs": [
    {
     "data": {
      "text/html": [
       "<div>\n",
       "<style>\n",
       "    .dataframe thead tr:only-child th {\n",
       "        text-align: right;\n",
       "    }\n",
       "\n",
       "    .dataframe thead th {\n",
       "        text-align: left;\n",
       "    }\n",
       "\n",
       "    .dataframe tbody tr th {\n",
       "        vertical-align: top;\n",
       "    }\n",
       "</style>\n",
       "<table border=\"1\" class=\"dataframe\">\n",
       "  <thead>\n",
       "    <tr style=\"text-align: right;\">\n",
       "      <th></th>\n",
       "      <th>x1</th>\n",
       "      <th>y1</th>\n",
       "      <th>x2</th>\n",
       "      <th>y2</th>\n",
       "      <th>x3</th>\n",
       "      <th>y3</th>\n",
       "      <th>x4</th>\n",
       "      <th>y4</th>\n",
       "    </tr>\n",
       "  </thead>\n",
       "  <tbody>\n",
       "    <tr>\n",
       "      <th>mean</th>\n",
       "      <td>9.000000</td>\n",
       "      <td>7.500909</td>\n",
       "      <td>9.000000</td>\n",
       "      <td>7.500909</td>\n",
       "      <td>9.000000</td>\n",
       "      <td>7.500000</td>\n",
       "      <td>9.000000</td>\n",
       "      <td>7.500909</td>\n",
       "    </tr>\n",
       "    <tr>\n",
       "      <th>std</th>\n",
       "      <td>3.316625</td>\n",
       "      <td>2.031568</td>\n",
       "      <td>3.316625</td>\n",
       "      <td>2.031657</td>\n",
       "      <td>3.316625</td>\n",
       "      <td>2.030424</td>\n",
       "      <td>3.316625</td>\n",
       "      <td>2.030579</td>\n",
       "    </tr>\n",
       "  </tbody>\n",
       "</table>\n",
       "</div>"
      ],
      "text/plain": [
       "            x1        y1        x2        y2        x3        y3        x4  \\\n",
       "mean  9.000000  7.500909  9.000000  7.500909  9.000000  7.500000  9.000000   \n",
       "std   3.316625  2.031568  3.316625  2.031657  3.316625  2.030424  3.316625   \n",
       "\n",
       "            y4  \n",
       "mean  7.500909  \n",
       "std   2.030579  "
      ]
     },
     "execution_count": 13,
     "metadata": {},
     "output_type": "execute_result"
    }
   ],
   "source": [
    "anscombe.describe().loc[['mean', 'std']]"
   ]
  },
  {
   "cell_type": "code",
   "execution_count": 14,
   "metadata": {
    "collapsed": true
   },
   "outputs": [],
   "source": [
    "# We observe that x1, x2, x3, x4 have same mean and std\n",
    "# We observe that y1, y2, y3, y4 have same mean and std"
   ]
  },
  {
   "cell_type": "markdown",
   "metadata": {},
   "source": [
    "#### Correlation coefficient"
   ]
  },
  {
   "cell_type": "code",
   "execution_count": 15,
   "metadata": {},
   "outputs": [
    {
     "name": "stdout",
     "output_type": "stream",
     "text": [
      "Correlation coeff. of dataset nb. 1 is: 0.82\n",
      "Correlation coeff. of dataset nb. 2 is: 0.82\n",
      "Correlation coeff. of dataset nb. 3 is: 0.82\n",
      "Correlation coeff. of dataset nb. 4 is: 0.82\n"
     ]
    }
   ],
   "source": [
    "for i in range(1,5):\n",
    "    x, y = anscombe['x' + str(i)], anscombe['y' + str(i)]\n",
    "    corr = x.corr(y)\n",
    "    print('Correlation coeff. of dataset nb. {} is: {:.2f}'.format(i, corr))"
   ]
  },
  {
   "cell_type": "markdown",
   "metadata": {},
   "source": [
    "#### Linear regression parameters"
   ]
  },
  {
   "cell_type": "code",
   "execution_count": 16,
   "metadata": {},
   "outputs": [
    {
     "name": "stdout",
     "output_type": "stream",
     "text": [
      "Intercept param. of dataset nb. 1 is: 0.50\n",
      "Slope param. of dataset nb. 1 is: 3.00 \n",
      "\n",
      "Intercept param. of dataset nb. 2 is: 0.50\n",
      "Slope param. of dataset nb. 2 is: 3.00 \n",
      "\n",
      "Intercept param. of dataset nb. 3 is: 0.50\n",
      "Slope param. of dataset nb. 3 is: 3.00 \n",
      "\n",
      "Intercept param. of dataset nb. 4 is: 0.50\n",
      "Slope param. of dataset nb. 4 is: 3.00 \n",
      "\n"
     ]
    }
   ],
   "source": [
    "import numpy as np\n",
    "\n",
    "for i in range(1,5):\n",
    "    x, y = anscombe['x' + str(i)], anscombe['y' + str(i)]\n",
    "    a, b = np.polyfit(x, y, 1)\n",
    "    print('Intercept param. of dataset nb. {} is: {:.2f}'.format(i, a))\n",
    "    print('Slope param. of dataset nb. {} is: {:.2f} \\n'.format(i, b))"
   ]
  },
  {
   "cell_type": "markdown",
   "metadata": {},
   "source": [
    "#### Scatter plots and Linear regression"
   ]
  },
  {
   "cell_type": "code",
   "execution_count": 17,
   "metadata": {},
   "outputs": [
    {
     "data": {
      "image/png": "[encoded data removed]",
      "text/plain": [
       "<matplotlib.figure.Figure at 0x106112898>"
      ]
     },
     "metadata": {},
     "output_type": "display_data"
    }
   ],
   "source": [
    "# Don't worry if you the following line looks cryptic for now, they will \n",
    "# The matplotlib primer section aims at clarifying it\n",
    "\n",
    "x_theor = np.array([3, 15])\n",
    "\n",
    "fig, axes = plt.subplots(2, 2, figsize=(8, 6), sharex=True, sharey=True)\n",
    "\n",
    "# Iterate over the axes (flatten so that indexed from 0 to 3 instead of [0,0], [0,1], ...)\n",
    "for i, ax in enumerate(axes.flat[:]):\n",
    "    x, y = anscombe['x' + str(i+1)], anscombe['y' + str(i+1)]\n",
    "    a, b = np.polyfit(x, y, 1)\n",
    "    y_theor = a * x_theor + b\n",
    "    ax.scatter(x, y, s=20)\n",
    "    ax.plot(x_theor, y_theor, color='brown')\n",
    "    ax.set_xlabel('x' + str(i+1))\n",
    "    ax.set_ylabel('y' + str(i+1))\n",
    "    \n",
    "fig.tight_layout()"
   ]
  },
  {
   "cell_type": "markdown",
   "metadata": {},
   "source": [
    "## ▸ Quiz 1\n",
    "___\n",
    "<a class='quiz-nb'></a>\n",
    "\n",
    "1. EDA is most of the time an optional step in a data analysis pipeline\n",
    "2. Quantitative and graphical EDA should be conducted in parallel\n",
    "3. A strong correlation between variables X and Y indicates that a variation of X causes a variation of Y\n",
    "4. The issue illustrated by Anscombe is not an issue anymore in the Big Data era\n",
    "\n",
    "### Notes\n",
    "* Check the right answer(s)\n",
    "* Answers are:\n",
    "* 1: Not at all it is MANDATORY. There is no excuse!\n",
    "* 2: For sure for the reasons discussed above\n",
    "* 3: NO, correlation is not causation\n",
    "* 4: No, quantity of data does not guarantee its quality and analysing Big data is full of pitfalls as well"
   ]
  },
  {
   "cell_type": "markdown",
   "metadata": {},
   "source": [
    "# II. MATPLOTLIB PRIMER\n",
    "<a id=\"matplotlib-primer\"></a>\n",
    "___\n"
   ]
  },
  {
   "cell_type": "markdown",
   "metadata": {},
   "source": [
    "## ▸ Python Data Viz ecosystem\n",
    "___\n",
    "\n",
    "* **Matplotlib** package **dates back from 2002** to enable MATLAB-like plotting interface in Python\n",
    "* **Highly customizable**, provides a fine-grained control over a wide range of plotting features\n",
    "* Plots can be visualized in Notebooks, exported as PDF, SVG, PNG, ...\n",
    "* In complement, based on Matplotlib, **a number of other packages** provides a high-level interfaces for drawing attractive statistical graphics.\n",
    "\n",
    "### References\n",
    "\n",
    "* [http://seaborn.pydata.org/](http://seaborn.pydata.org/)\n",
    "* [http://pandas.pydata.org/pandas-docs/stable/visualization.html](http://pandas.pydata.org/pandas-docs/stable/visualization.html)\n",
    "* [https://bokeh.pydata.org/en/latest/](https://bokeh.pydata.org/en/latest/)\n",
    "* [http://datashader.readthedocs.io/](http://datashader.readthedocs.io/)\n",
    "\n",
    "### Notes\n",
    "* Seaborn package high-level interface is often a proper default choice when doing EDA\n",
    "* Pandas package wraps Matplotlib in order to provide plotting features directly using DataFrame and Series objects\n",
    "* Bokeh is a good choice to create interactive data visualization\n",
    "* Datashader is really convenient when dealing with big datasets"
   ]
  },
  {
   "cell_type": "markdown",
   "metadata": {},
   "source": [
    "## ▸ Data Viz as an end in itself\n",
    "___\n",
    "\n",
    "* You might have seen **compelling data viz. products** in then New York Times, The Guardian, ...\n",
    "* Often the **fruit of an intense collaborative** within a multi-disciplinary team\n",
    "* Should use **means and knowledge** to the **level of the message** you want to convey\n",
    "* **Data Viz for EDA has different goals**\n",
    "\n",
    "### References\n",
    "* http://fr.anckalbi.net/child-cash-grant\n",
    "* How to lie with maps: http://press.uchicago.edu/ucp/books/book/chicago/H/bo3696845.html\n",
    "\n",
    "### Notes\n",
    "* Data Viz products you might have seen in the news often supports a strong narrative \n",
    "* Being able to interactively query a multidimensionnal dataset brings sometimes more confusion. For instance showing variations from one selection to the other but is it significative based on data, ... \n",
    "* As all medias, data visualization can be misused to pursue questionable purposes ...\n",
    "* The whole goal of a Data Viz product is to provide interesting and original point of views that shed light on a problem\n",
    "* When publishing Data Viz product online, the excellent D3 https://d3js.org/ provides infinitie possibilities"
   ]
  },
  {
   "cell_type": "markdown",
   "metadata": {},
   "source": [
    "## ▸ Matplotlib up and running\n",
    "___\n",
    "\n",
    "* Matplotlib provides a **straightforward way to plot** line plots, scatter plots, histograms, time series visualization, heatmaps, ...\n",
    "* But there are **essential facts you must know** and that will highly ease your learning process \n",
    "\n",
    "### References\n",
    "* [https://matplotlib.org/](https://matplotlib.org/)\n",
    "* [https://matplotlib.org/tutorials/index.html](https://matplotlib.org/tutorials/index.html)\n",
    "* [https://matplotlib.org/gallery.html](https://matplotlib.org/gallery.html)\n",
    "\n",
    "### Notes\n",
    "* Matplotlib as an extremely vast set of possibilities, our goal here is just to give you a leg up\n",
    "* The Matplotlib tutorials and gallery are the best resources to learn advanced features\n",
    "* Additionnaly, we will use Matplotlib thoughout the module: Statistics, Machine Learning, Deep Learning in a variety of context"
   ]
  },
  {
   "cell_type": "markdown",
   "metadata": {},
   "source": [
    "## ▸ Matplotlib Primer [Notebook Live Demo]\n",
    "___\n",
    "\n",
    "* What's a matplotlib figure?\n",
    "* What are matplotlib axes?\n",
    "* How to customize your plots?\n",
    "* Introduction to Seaborn and Pandas plotting high-level features?\n",
    "\n",
    "### References\n",
    "\n",
    "### Notes\n",
    "* [Teacher] Dedicate 15-30 min to the code snippet below showing and executing code live\n",
    "* [Student] Be sure to run and understand the following code snippets before answering module's assignment"
   ]
  },
  {
   "cell_type": "markdown",
   "metadata": {},
   "source": [
    "#### Importing convention and first plot"
   ]
  },
  {
   "cell_type": "code",
   "execution_count": 18,
   "metadata": {
    "collapsed": true
   },
   "outputs": [],
   "source": [
    "# Widely accepted \n",
    "import matplotlib.pyplot as plt\n",
    "\n",
    "# To use Jupyter notebook as the plotting backend (where plots will be rendered)\n",
    "%matplotlib inline"
   ]
  },
  {
   "cell_type": "code",
   "execution_count": 19,
   "metadata": {},
   "outputs": [
    {
     "data": {
      "text/plain": [
       "array([ 9.91621593,  9.71091249,  9.14399475,  9.40847189,  9.97333251,\n",
       "       10.78210332,  9.14291548,  8.37495865, 10.21545704, 10.25113329,\n",
       "       10.21964561, 11.04996812,  8.69692605, 11.09684954, 10.70380012,\n",
       "       12.55796708, 10.41936583, 12.08382347, 11.18159082,  9.1333874 ])"
      ]
     },
     "execution_count": 19,
     "metadata": {},
     "output_type": "execute_result"
    }
   ],
   "source": [
    "# Let's import NumPy and generate a toy dataset\n",
    "import numpy as np\n",
    "\n",
    "data = np.random.randn(20) + 10\n",
    "data"
   ]
  },
  {
   "cell_type": "code",
   "execution_count": 20,
   "metadata": {},
   "outputs": [
    {
     "data": {
      "text/plain": [
       "[<matplotlib.lines.Line2D at 0x1084bf6d8>]"
      ]
     },
     "execution_count": 20,
     "metadata": {},
     "output_type": "execute_result"
    },
    {
     "data": {
      "image/png": "[encoded data removed]",
      "text/plain": [
       "<matplotlib.figure.Figure at 0x10618c668>"
      ]
     },
     "metadata": {},
     "output_type": "display_data"
    }
   ],
   "source": [
    "plt.plot(data)\n",
    "\n",
    "# Plots in matplotlib resides in a Figure object"
   ]
  },
  {
   "cell_type": "markdown",
   "metadata": {},
   "source": [
    "#### Figure and AxesSubplot objects"
   ]
  },
  {
   "cell_type": "code",
   "execution_count": 32,
   "metadata": {
    "scrolled": true
   },
   "outputs": [
    {
     "data": {
      "text/plain": [
       "[<matplotlib.lines.Line2D at 0x10a8177b8>]"
      ]
     },
     "execution_count": 32,
     "metadata": {},
     "output_type": "execute_result"
    },
    {
     "data": {
      "image/png": "[encoded data removed]",
      "text/plain": [
       "<matplotlib.figure.Figure at 0x10a5d5518>"
      ]
     },
     "metadata": {},
     "output_type": "display_data"
    }
   ],
   "source": [
    "# Create a new figure (figure method has a number of options)\n",
    "# https://matplotlib.org/api/_as_gen/matplotlib.figure.Figure.html#matplotlib.figure.Figure\n",
    "fig = plt.figure(figsize=(12, 8))\n",
    "\n",
    "# Once a figure created, you must create subplots: AxesSubplot objects \n",
    "ax1 = fig.add_subplot(2, 2, 1) # First plot in the top-left of a 2x2 subplot grid\n",
    "ax2 = fig.add_subplot(2, 2, 2) # Second plot in the top-right of a 2x2 subplot grid\n",
    "ax3 = fig.add_subplot(2, 2, 3) # ...\n",
    "ax4 = fig.add_subplot(2, 2, 4)\n",
    "\n",
    "# By default when using the plt.plot(...) method the last subplot of the figure is used\n",
    "plt.plot(data)\n",
    "\n",
    "# Warning: in Jupyter notebook plots are reset after each cell so be sure to put\n",
    "# the whole code snippet in the same cell."
   ]
  },
  {
   "cell_type": "code",
   "execution_count": 22,
   "metadata": {},
   "outputs": [
    {
     "data": {
      "text/plain": [
       "(array([ 1.,  0.,  2.,  1.,  8.,  9.,  7., 12., 17., 11., 11.,  9.,  7.,\n",
       "         3.,  2.]),\n",
       " array([ 7.09578248,  7.45497727,  7.81417207,  8.17336686,  8.53256166,\n",
       "         8.89175645,  9.25095125,  9.61014604,  9.96934084, 10.32853563,\n",
       "        10.68773043, 11.04692523, 11.40612002, 11.76531482, 12.12450961,\n",
       "        12.48370441]),\n",
       " <a list of 15 Patch objects>)"
      ]
     },
     "execution_count": 22,
     "metadata": {},
     "output_type": "execute_result"
    },
    {
     "data": {
      "image/png": "[encoded data removed]",
      "text/plain": [
       "<matplotlib.figure.Figure at 0x108617e10>"
      ]
     },
     "metadata": {},
     "output_type": "display_data"
    }
   ],
   "source": [
    "#### Plotting in specific subplots\n",
    "data = np.random.randn(100) + 10\n",
    "\n",
    "fig = plt.figure(figsize=(12, 8))\n",
    "\n",
    "# Once a figure created, you must create subplots: AxesSubplot objects \n",
    "ax1 = fig.add_subplot(2, 2, 1) \n",
    "_ = fig.add_subplot(2, 2, 2) # Common to use the dummy var. '_' when no plan to use the returned objects later on\n",
    "ax3 = fig.add_subplot(2, 2, 3) \n",
    "ax4 = fig.add_subplot(2, 2, 4)\n",
    "\n",
    "ax1.plot(data)\n",
    "ax4.hist(data, bins=15)"
   ]
  },
  {
   "cell_type": "markdown",
   "metadata": {},
   "source": [
    "#### Iterate over AxesSubplot objects and style"
   ]
  },
  {
   "cell_type": "code",
   "execution_count": 23,
   "metadata": {},
   "outputs": [
    {
     "data": {
      "text/plain": [
       "array([[<matplotlib.axes._subplots.AxesSubplot object at 0x108a01d68>,\n",
       "        <matplotlib.axes._subplots.AxesSubplot object at 0x108bd4cf8>],\n",
       "       [<matplotlib.axes._subplots.AxesSubplot object at 0x108c0bf28>,\n",
       "        <matplotlib.axes._subplots.AxesSubplot object at 0x108c45f98>]],\n",
       "      dtype=object)"
      ]
     },
     "execution_count": 23,
     "metadata": {},
     "output_type": "execute_result"
    },
    {
     "data": {
      "image/png": "[encoded data removed]",
      "text/plain": [
       "<matplotlib.figure.Figure at 0x1084bfdd8>"
      ]
     },
     "metadata": {},
     "output_type": "display_data"
    }
   ],
   "source": [
    "# Instead of creating each axes one by one, create them all at once\n",
    "fig, axes = plt.subplots(2, 2, figsize=(8, 6))\n",
    "axes"
   ]
  },
  {
   "cell_type": "code",
   "execution_count": 24,
   "metadata": {},
   "outputs": [
    {
     "data": {
      "image/png": "[encoded data removed]",
      "text/plain": [
       "<matplotlib.figure.Figure at 0x108cc5978>"
      ]
     },
     "metadata": {},
     "output_type": "display_data"
    }
   ],
   "source": [
    "# You can then iterate over this list of axes and plot whatever you want\n",
    "fig, axes = plt.subplots(3, 3, figsize=(12, 8), sharex=True, sharey=True)\n",
    "for i in range(3):\n",
    "    for j in range(3):\n",
    "        axes[i, j].hist(np.random.randn(500), bins=50, color='brown', alpha=0.7)\n",
    "        \n",
    "plt.subplots_adjust(wspace=0, hspace=0) # to adjust space between subplots\n",
    "\n",
    "# Feel free to further explore matplotlip plot types and available custom options\n",
    "\n",
    "# Go back Anscombe's Quartet plots, by now you should be able to understand the code"
   ]
  },
  {
   "cell_type": "markdown",
   "metadata": {},
   "source": [
    "## ▸ Quiz 2\n",
    "___\n",
    "<a class='quiz-nb'></a>\n",
    "\n",
    "1. Matplotlib is a low-level, highly customizable and pervasive Python Package for data visualization\n",
    "2. D3.js is based on Matplotlib\n",
    "3. Matplotlib figures contains the plot elements\n",
    "4. the '.histogram' matplotlib method allow to create an histogram\n",
    "\n",
    "### Notes\n",
    "* Check the right answer(s)\n",
    "* Answers are: \n",
    "* 1: Totally right\n",
    "* 2: Not at all, D3.js is a highly versatile Javascript library implementing the \"Grammar of Graphics\" vision (as ggplot in R language)\n",
    "* 3: Sure\n",
    "* 4: no, check the right syntax"
   ]
  },
  {
   "cell_type": "markdown",
   "metadata": {},
   "source": [
    "# III. DATA VISUALIZATION PRIMER\n",
    "<a id=\"data-visualization\"></a>\n",
    "___\n"
   ]
  },
  {
   "cell_type": "markdown",
   "metadata": {},
   "source": [
    "## ▸ Data viz. design space is huge\n",
    "___\n",
    "\n",
    "![hundred-diff-graphics.png](img/hundred-diff-graphics.png)\n",
    "\n",
    "\n",
    "### References\n",
    "* https://python-graph-gallery.com\n",
    "* http://www.perceptualedge.com/\n",
    "\n",
    "### Notes\n",
    "* A hundred different graphics for the same information"
   ]
  },
  {
   "cell_type": "markdown",
   "metadata": {},
   "source": [
    "## ▸ Data viz. touchstone\n",
    "___\n",
    "\n",
    "* How to assess the **relevance of a particular data visualization**?\n",
    "* Is there such things as **good or bad data visualizations**?\n",
    "* Data Viz. is **not new**\n",
    "* **\"Semiology Of Graphics\"**, J. Bertin, 1967\n",
    "\n",
    "\n",
    "### References\n",
    "* https://en.wikipedia.org/wiki/Jacques_Bertin\n",
    "* https://www.crcpress.com/Visualization-Analysis-and-Design/Munzner/p/book/9781466508910\n",
    "\n",
    "### Notes\n",
    "* \"Semiology of Graphics\" monumental work, based on his experience as a cartographer and geographer, represents the first and widest intent to provide a theoretical foundation to Information Visualization\n"
   ]
  },
  {
   "cell_type": "markdown",
   "metadata": {},
   "source": [
    "## ▸ Notions of Semiology Of Graphics\n",
    "___\n",
    "\n",
    "* **Marks** are basic geometric elements and **channels** control their appearance\n",
    "* **Effective channels** should reflect/match the magnitude of information of your data\n",
    "* For instance, **Length channel effectively convey** variation of quantitative data. **Color Hue** channel **does not**\n",
    "\n",
    "### References\n",
    "* https://vimeo.com/26205288\n",
    "* https://www.cs.ubc.ca/~tmm/talks/minicourse14/vad15seattle-4x4.pdf\n",
    "\n",
    "### Notes\n",
    "* Example of a mark is a circle and channels can be sizes, color hue, color saturation, ...\n",
    "* When we refer to magnitude of information, we have in mind: is data quantitative, qualitative, ordered, binned, continuous, ... "
   ]
  },
  {
   "cell_type": "markdown",
   "metadata": {},
   "source": [
    "## ▸ Channels: Rankings\n",
    "___\n",
    "\n",
    "![channel-ranking.png](img/channel-ranking.png)\n",
    "\n",
    "### References\n",
    "* https://www.crcpress.com/Visualization-Analysis-and-Design/Munzner/p/book/9781466508910\n",
    "* http://vda.univie.ac.at/Teaching/Vis/13s/LectureNotes/05_visual_encodings.pdf\n",
    "* http://www.perceptualedge.com/articles/visual_business_intelligence/the_visual_perception_of_variation.pdf\n",
    "\n",
    "### Notes\n",
    "* Example of a mark is a circle and channels can be sizes, color hue, color saturation, ...\n",
    "* When we refer to magnitude of information, we have in mind: is data quantitative, qualitative, ordered, binned, continuous, ... "
   ]
  },
  {
   "cell_type": "markdown",
   "metadata": {
    "collapsed": true
   },
   "source": [
    "## ▸ Channel efficiency: comparing area\n",
    "___\n",
    "\n",
    "![area-circles.png](img/area-circles.png)\n",
    "\n",
    "\n",
    "### Notes\n",
    "* Compare Areas of circles: how much bigger is the second circle?"
   ]
  },
  {
   "cell_type": "markdown",
   "metadata": {},
   "source": [
    "## ▸ Channel efficiency: comparing length\n",
    "___\n",
    "\n",
    "![bar-lengths.png](img/bar-lengths.png)\n",
    "\n",
    "\n",
    "### Notes\n",
    "* What is the relative length of these bars?"
   ]
  },
  {
   "cell_type": "markdown",
   "metadata": {},
   "source": [
    "## ▸ Channel efficiency: Answer\n",
    "___\n",
    "\n",
    "![bar-lengths-truth.png](img/bar-lengths-truth.png)\n",
    "\n",
    "\n",
    "### Notes\n",
    "* Biggest circle area was 7 times bigger as was the longer bar!\n",
    "* Which channel was most efficient, accurate? Required the least amount of cognitive load?"
   ]
  },
  {
   "cell_type": "markdown",
   "metadata": {},
   "source": [
    "## ▸ Some remarks on color use\n",
    "___\n",
    "\n",
    "* Choosing colors is **not a matter of personal taste**\n",
    "* **Color channels**: Hue, Luminance and Saturation have **their own functions**\n",
    "* **Follow best practices**: http://colorbrewer2.org/\n",
    "\n",
    "### References\n",
    "* http://colorbrewer2.org/\n",
    "* http://www.perceptualedge.com/articles/visual_business_intelligence/rules_for_using_color.pdf\n",
    "* http://web.archive.org/web/20131019161245/http://www.sv.vt.edu/~rkriz/Projects/create_color_table/color_07.pdf\n",
    "\n",
    "### Notes\n",
    "* Arthur H. Robinson, in 1952 brillantly said: \"For some reason, as soon as color is applied to a map the color becomes a focus of criticism, and everyone, regardless of his familiarity with the principles of color use, seems to feel that he is entitled to comment upon the color on the basis of his own likes and dislikes&quot\"\n"
   ]
  },
  {
   "cell_type": "markdown",
   "metadata": {},
   "source": [
    "## ▸ Techniques to cope with overplotting \n",
    "___\n",
    "\n",
    "* **Reducing opacity** (alpha channel): enable visibility of layered data points\n",
    "* **Jittering**: to slightly and randomly repositionning data points \n",
    "* **Randommy sub-sampling\"**: to reduce dataset size with chances of retaining dataset overall structure\n",
    "* **Aggregating**\n",
    "\n",
    "### References\n",
    "https://www.perceptualedge.com/articles/visual_business_intelligence/over-plotting_in_graphs.pdf\n",
    "\n",
    "### Notes\n",
    "* Overplotting: the plotting of data on top of a previous plot\n",
    "* Use cases will illustrate the **Aggregating** technique\n",
    "* Aggregating means reducing the information and should be done carefully and in purpose. This is one of the technique that can be used to lie with data (for instance by carefully choosing the scale of aggregation) among many others. "
   ]
  },
  {
   "cell_type": "markdown",
   "metadata": {},
   "source": [
    "## ▸ Quiz 3\n",
    "___\n",
    "<a class='quiz-nb'></a>\n",
    "\n",
    "1. Data visualization is a fairly recent research field\n",
    "2. Position on common scale is more efficient than area channel for quantitative data\n",
    "3. Color hue channel should be used for qualitative data only\n",
    "4. Choosing colors for your data visualization is really a matter of taste\n",
    "\n",
    "### Notes\n",
    "* Check the right answer(s)\n",
    "* Answers are: \n",
    "* 1: Not at all, look at J. Bertin work in the 1960's and the like\n",
    "* 2: Right, refer to above example\n",
    "* 3: Right (see justification above)\n",
    "* 4: This is how it is often done but should be absolutely not be the case"
   ]
  },
  {
   "cell_type": "markdown",
   "metadata": {},
   "source": [
    "# IV. EDA MINDSET\n",
    "<a id=\"eda-mindset\"></a>\n",
    "___"
   ]
  },
  {
   "cell_type": "markdown",
   "metadata": {},
   "source": [
    "## ▸ A non canonical pipeline\n",
    "___\n",
    "\n",
    "* **No standard way** to carry out Exploratory Data Analysis\n",
    "* But **general frame of mind is to interrogate** the dataset at hand \n",
    "* While **keeping in mind objective/goal** pursued and its context\n",
    "\n",
    "\n",
    "### Notes\n",
    "* There is no excuse for not performing EDA. This is always benefitial\n",
    "* The more question you ask to your dataset the better prepared you will be to reach your objectives\n"
   ]
  },
  {
   "cell_type": "markdown",
   "metadata": {},
   "source": [
    "## ▸ A proposed EDA path 1/4\n",
    "___\n",
    "\n",
    "* Take a quick look at the **first and end lines** of your dataset\n",
    "* Take a look at **Summary Statistics** of each variable/column\n",
    "* For **Quantitative** variables: look at their **histograms**\n",
    "\n",
    "\n",
    "### Notes\n",
    "* We assume that we are dealing with structured data and we have gone through the data cleaning process\n"
   ]
  },
  {
   "cell_type": "markdown",
   "metadata": {},
   "source": [
    "## ▸ A proposed EDA path (2/4)\n",
    "___\n",
    "\n",
    "* For **Qualitative/Categorical** variable: get **counts per category** or/and plot bar charts, ...\n",
    "* For **Time Series**, take a quick look at line plots\n",
    "* If **geo-referenced**, plot a quick scatter plot using lon, lat as x and y\n",
    "\n",
    "\n",
    "### Notes\n",
    "* For each of this task, there are many possible chart type candidates and techniques (for instance to cope with overplotting)\n"
   ]
  },
  {
   "cell_type": "markdown",
   "metadata": {},
   "source": [
    "## ▸ A proposed EDA path (3/4)\n",
    "___\n",
    "\n",
    "* **Identify potential outliers**, are they really outliers?\n",
    "* Look at **correlation** between continuous variables using scatterplots and correlograms\n",
    "* **Check any required assumption** (normally distributed, ...) visually or Normality test, ...\n",
    "\n",
    "### References\n",
    "* https://en.wikipedia.org/wiki/Outlier\n",
    "* https://python-graph-gallery.com/111-custom-correlogram/\n",
    "\n",
    "### Notes\n",
    "* You can use the IQR rule of thumbs for instance to assess outliers (see references)"
   ]
  },
  {
   "cell_type": "markdown",
   "metadata": {},
   "source": [
    "## ▸ A proposed EDA path (4/4)\n",
    "___\n",
    "\n",
    "* **Aggregate/downsample** if facing overplotting or simply summarizing your dataset\n",
    "* **Cross-query** your data by computing grouped statistics (groupby + average, max, min, ...)\n",
    "* **Faceted/small multiples** visualizations\n",
    "* **Cluster analysis**, patterns identification\n",
    "\n",
    "### References\n",
    "* https://python-graph-gallery.com/125-small-multiples-for-line-chart/\n",
    "\n",
    "### Notes\n",
    "* For instance K-means clustering could be perform to identify similarities and dissimilarites between groups of values. This could for instance inform further feature engineering tasks (would be covered in Machine Learning Course)"
   ]
  },
  {
   "cell_type": "markdown",
   "metadata": {},
   "source": [
    "# V. CLUSTERING WITH K-MEANS\n",
    "<a id=\"k-means\"></a>\n",
    "___"
   ]
  },
  {
   "cell_type": "markdown",
   "metadata": {},
   "source": [
    "## ▸ Discovering hidden structures in data\n",
    "___\n",
    "\n",
    "* Strictly speaking **K-means is a machine learning algorithm** (unsupervised learning)\n",
    "* But **its exploratory nature** is particularly **relevant to EDA**\n",
    "* Main goal is to **identify similarities and clusters** in dataset\n",
    "\n",
    "### References\n",
    "* https://github.com/rasbt/python-machine-learning-book\n",
    "* http://scikit-learn.org/stable/modules/generated/sklearn.cluster.KMeans.html\n",
    "* http://scikit-learn.org/stable/auto_examples/cluster/plot_cluster_iris.html#sphx-glr-auto-examples-cluster-plot-cluster-iris-py"
   ]
  },
  {
   "cell_type": "markdown",
   "metadata": {},
   "source": [
    "## ▸ A sneak peak at Machine Learning\n",
    "___\n",
    "\n",
    "* Main branches are: **Supervised and Unsupervised learning**\n",
    "* Supervised learning: infer output (target) from input(s) (features) using labeled examples\n",
    "* Unsupervised learning: no label, your task is to discover/infer them\n",
    "* Unsupervised learning and **K-means in particular allow to gain insight** into your dataset valuable for further modeling tasks\n",
    "\n",
    "\n",
    "### References\n",
    "* https://github.com/rasbt/python-machine-learning-book\n",
    "* http://scikit-learn.org/stable/modules/generated/sklearn.cluster.KMeans.html\n",
    "* http://scikit-learn.org/stable/auto_examples/cluster/plot_cluster_iris.html#sphx-glr-auto-examples-cluster-plot-cluster-iris-py\n",
    "\n",
    "### Notes\n",
    "* An example of supervised learning setup could be to predict probability of defaults of a network node given monitored temperature, error transmission rate, ... To do so, you would need to get logs of many nodes both functioning and non-functioning ones. The logs (temperature, ...) would be your input features and functioning status (the target/label). Hence using past experience (training dataset), you would be in a position (pending on model relevance) to predict future functioning mode.\n"
   ]
  },
  {
   "cell_type": "markdown",
   "metadata": {},
   "source": [
    "## ▸ An example of unlabeled data\n",
    "___\n",
    "\n",
    "![kmeans-blob.png](img/kmeans-blob.png)\n",
    "\n",
    "### References\n",
    "* https://github.com/rasbt/python-machine-learning-book\n",
    "* http://scikit-learn.org/stable/modules/generated/sklearn.cluster.KMeans.html\n",
    "* http://scikit-learn.org/stable/modules/generated/sklearn.datasets.make_blobs.html\n",
    "\n",
    "### Notes\n",
    "* Dataset has two input features (let's call them X1 and X2) but no label. This type of contrived dataset can be generated using scikit-learn make_blocs method.\n",
    "* Obviously in that case and considering that human eyes and brain is extremely good at spotting such patterns this is a trivial task for us (be warned however that sometimes human brains see nonexistent patterns!)\n",
    "* K-means allows to identify these patterns in an automatic way"
   ]
  },
  {
   "cell_type": "markdown",
   "metadata": {},
   "source": [
    "## ▸ K-means in action\n",
    "___\n",
    "\n",
    "* **Randomly pick k centroids** as initial cluster centers\n",
    "* **Assign** each sample **to the nearest centroids**\n",
    "* **Move centroids to the center** of the samples previously assigned\n",
    "* **Repeat** previous 2 steps **until centroids positions settle down**\n",
    "\n",
    "\n",
    "### References\n",
    "* https://www.naftaliharris.com/blog/visualizing-k-means-clustering/\n",
    "* http://scikit-learn.org/stable/modules/generated/sklearn.cluster.KMeans.html\n"
   ]
  },
  {
   "cell_type": "markdown",
   "metadata": {
    "collapsed": true
   },
   "source": [
    "## ▸ Randomly pick k centroids\n",
    "___\n",
    "\n",
    "![kmeans-pick-random-1.png](img/kmeans-pick-random-1.png)\n",
    "\n",
    "### References\n",
    "* https://www.naftaliharris.com/blog/visualizing-k-means-clustering/\n",
    "* http://scikit-learn.org/stable/modules/generated/sklearn.cluster.KMeans.html\n"
   ]
  },
  {
   "cell_type": "markdown",
   "metadata": {},
   "source": [
    "## ▸ Assign nearest samples (iteration 1)\n",
    "___\n",
    "\n",
    "![kmeans-assign-1.png](img/kmeans-assign-1.png)\n",
    "\n",
    "### References\n",
    "* https://www.naftaliharris.com/blog/visualizing-k-means-clustering/\n",
    "* http://scikit-learn.org/stable/modules/generated/sklearn.cluster.KMeans.html\n"
   ]
  },
  {
   "cell_type": "markdown",
   "metadata": {},
   "source": [
    "## ▸ Move centroids to the center (iteration 1)\n",
    "___\n",
    "\n",
    "![kmeans-move-center-1.png](img/kmeans-move-center-1.png)\n",
    "\n",
    "### References\n",
    "* https://www.naftaliharris.com/blog/visualizing-k-means-clustering/\n",
    "* http://scikit-learn.org/stable/modules/generated/sklearn.cluster.KMeans.html\n"
   ]
  },
  {
   "cell_type": "markdown",
   "metadata": {},
   "source": [
    "## ▸ Assign sample to nearest centroids (iteration 2)\n",
    "___\n",
    "\n",
    "![kmeans-assign-2.png](img/kmeans-assign-2.png)\n",
    "\n",
    "### References\n",
    "* https://www.naftaliharris.com/blog/visualizing-k-means-clustering/\n",
    "* http://scikit-learn.org/stable/modules/generated/sklearn.cluster.KMeans.html\n"
   ]
  },
  {
   "cell_type": "markdown",
   "metadata": {},
   "source": [
    "## ▸ Move centroids to the center (iteration 2)\n",
    "___\n",
    "\n",
    "![kmeans-move-center-2.png](img/kmeans-move-center-2.png)\n",
    "\n",
    "### References\n",
    "* https://www.naftaliharris.com/blog/visualizing-k-means-clustering/\n",
    "* http://scikit-learn.org/stable/modules/generated/sklearn.cluster.KMeans.html\n"
   ]
  },
  {
   "cell_type": "markdown",
   "metadata": {},
   "source": [
    "## ▸  Move centroids to the center (iteration 3)\n",
    "___\n",
    "\n",
    "![kmeans-assign-3.png](img/kmeans-assign-3.png)\n",
    "\n",
    "### References\n",
    "* https://www.naftaliharris.com/blog/visualizing-k-means-clustering/\n",
    "* http://scikit-learn.org/stable/modules/generated/sklearn.cluster.KMeans.html\n",
    "\n",
    "### Notes\n",
    "* Looks like we successfully found our clusters!\n",
    "* Note however that depending on the initial random position of the centroids, you might end up with very different clusters. For that reason, K-means implementation run the algorithm several time with different initial centroid positions and keep the one with lower inertia: Sum of squared distances of samples to their closest cluster center.\n",
    "* [teacher] Take time to play around with https://www.naftaliharris.com/blog/visualizing-k-means-clustering/ online simulator to highlight previous point"
   ]
  },
  {
   "cell_type": "markdown",
   "metadata": {
    "collapsed": true
   },
   "source": [
    "## ▸  Why 3 clusters and not 4 or 5 or ...\n",
    "___\n",
    "\n",
    "* In our case, **with a contrived example, looked like an obvious choice**\n",
    "* However, **will not be always the case**\n",
    "* Fortunately, the **elbow method** to find the optimal number of clusters\n",
    "\n",
    "### References\n",
    "* https://www.naftaliharris.com/blog/visualizing-k-means-clustering/\n",
    "* http://scikit-learn.org/stable/modules/generated/sklearn.cluster.KMeans.html\n",
    "\n"
   ]
  },
  {
   "cell_type": "markdown",
   "metadata": {},
   "source": [
    "## ▸  The \"Elbow\" method\n",
    "___\n",
    "\n",
    "* Run the K-means algorithm several time with various number of clusters: 3, 4, 5, ...\n",
    "* **Calculate the inertia** for each \n",
    "* Plot inertia vs. number of clusters and **spot the \"elbow\"**\n",
    "\n",
    "### References\n",
    "* https://www.naftaliharris.com/blog/visualizing-k-means-clustering/\n",
    "* http://scikit-learn.org/stable/modules/generated/sklearn.cluster.KMeans.html\n",
    "\n",
    "### Notes\n",
    "* **inertia** or within-cluster SSE (Sum of Squared Error): Sum of squared distances of samples to their closest cluster center"
   ]
  },
  {
   "cell_type": "markdown",
   "metadata": {},
   "source": [
    "## ▸  The \"Elbow\" method in action\n",
    "___\n",
    "\n",
    "![kmeans-elbow.png](img/kmeans-elbow.png)\n",
    "\n",
    "### References\n",
    "* https://github.com/rasbt/python-machine-learning-book\n",
    "* http://scikit-learn.org/stable/modules/generated/sklearn.cluster.KMeans.html\n",
    "\n",
    "### Notes\n",
    "* In the present case the \"elbow\" can be identified for number of clusters equal 3"
   ]
  },
  {
   "cell_type": "markdown",
   "metadata": {},
   "source": [
    "## ▸  Our initial dataset clustered\n",
    "___\n",
    "\n",
    "![kmeans-final-clustering.png](img/kmeans-final-clustering.png)\n",
    "\n",
    "### References\n",
    "* https://github.com/rasbt/python-machine-learning-book\n",
    "* http://scikit-learn.org/stable/modules/generated/sklearn.cluster.KMeans.html\n",
    "\n",
    "### Notes\n",
    "* You will see K-means clustering used in a real use cases in EDA case studies"
   ]
  },
  {
   "cell_type": "markdown",
   "metadata": {},
   "source": [
    "## ▸ Quiz 4\n",
    "___\n",
    "<a class='quiz-nb'></a>\n",
    "\n",
    "1. EDA pipeline is standardized and should be followed sequentially\n",
    "2. When using K-means, it is always clear how many clusters should be chosen\n",
    "3. Initial position of K-means cluster centroids does not impact the final result\n",
    "4. The \"Knee\" method allows to assess the number of relevant clusters\n",
    "\n",
    "### Notes\n",
    "* Check the right answer(s)\n",
    "* Answers are:\n",
    "* 1: No, there are some guidelines and a mindeset but you should develop your own (free) style\n",
    "* 2: No, this can be assessed through the elbow method\n",
    "* 3: Wrong, it has a huge impact and it is why K-means algorithm always run multiple time with various initializations\n",
    "* 4: No, \"elbow\" "
   ]
  }
 ],
 "metadata": {
  "kernelspec": {
   "display_name": "Python 3",
   "language": "python",
   "name": "python3"
  },
  "language_info": {
   "codemirror_mode": {
    "name": "ipython",
    "version": 3
   },
   "file_extension": ".py",
   "mimetype": "text/x-python",
   "name": "python",
   "nbconvert_exporter": "python",
   "pygments_lexer": "ipython3",
   "version": "3.6.5"
  }
 },
 "nbformat": 4,
 "nbformat_minor": 2
}
