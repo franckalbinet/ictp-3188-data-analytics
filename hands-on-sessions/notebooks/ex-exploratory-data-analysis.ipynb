{
 "cells": [
  {
   "cell_type": "markdown",
   "metadata": {},
   "source": [
    "#### EXPLORATORY DATA ANALYSIS\n",
    "___"
   ]
  },
  {
   "cell_type": "markdown",
   "metadata": {},
   "source": [
    "## ADVICE FOR SELF-STUDY\n",
    "___\n",
    "*[Estimated time ~ 4 h]*\n",
    "\n",
    "\n",
    "You should be by now acquainted with the \"Python for Data Analysis, Wes McKinney, Second Edition\" book and should have gone through chapters 2 to 8. Keep on the good work and study chapters 9 to 14 https://github.com/wesm/pydata-book."
   ]
  },
  {
   "cell_type": "markdown",
   "metadata": {},
   "source": [
    "## EXERCISE I. UN DATA: INTERNET USERS [CONTINUED]\n",
    "___\n",
    "*[Estimated time ~ 3 h]*\n",
    "\n",
    "Data source: http://data.un.org/Data.aspx?q=internet&d=SDGs&f=series%3aIT_USE_ii99\n",
    "\n",
    "Based on data preparation carried out in a previous exercise (FM7/exercises/3-data-cleaning-and-preparation-exercises/ex-data-cleaning-and-preparation.ipynb), we would like to further exploit the data at hand and answering additional few questions:\n",
    "\n",
    "* What are the most connected countries (top 20)?\n",
    "* What are the least connected countries (top 10)?\n",
    "* What are the countries with highest change rate between 2015 and 2000?\n",
    "* What is the average increase rate of population connected to the internet per country between 2000 and 2015? What are the top 10 countries (highest average increase rate)?\n",
    "* Can you identify typical time evolution patterns (using K-means)? (You will be in a better position to answer this once you've gone through `FM7/notebooks/5-exploratory-data-analysis-use-cases.ipynb` use cases)\n",
    "\n",
    "Data are available under `data/UN-data-internet.csv`"
   ]
  },
  {
   "cell_type": "code",
   "execution_count": 3,
   "metadata": {
    "collapsed": true
   },
   "outputs": [],
   "source": [
    "## Your code here\n"
   ]
  },
  {
   "cell_type": "markdown",
   "metadata": {},
   "source": [
    "## EXERCISE II. SAHEL DATASET\n",
    "___\n",
    "*[Estimated time ~ 3 h]*\n",
    "\n",
    "We are providing for this exercise:\n",
    "\n",
    "* a time series of monthly temperature (near surface monthly mean air temperature) in several African countries from Sahel zone (https://en.wikipedia.org/wiki/Sahel) from 1901 to 2005;\n",
    "* a supporting notebook: `FM7/exercises/4-exploratory-data-analysis-exercises/ex2-supporting-notebook.ipynb` highlighting several useful techniques to load, manipulate and visualize time series with Pandas.\n",
    "\n",
    "Data source: http://sdwebx.worldbank.org/climateportal/index.cfm?page=downscaled_data_download&menu=historical\n",
    "\n",
    "We would like you to answer the following questions:\n",
    "\n",
    "* What have been the hotest and coldest month and year (based on monthly mean temperature) in the Sahel zone this last century (since 1901 more exactly)? And where?\n",
    "* Do you spot any particular climatic event in the zone or sub-zone (west coast, east part, central, ...)?\n",
    "* Do you notice a global warming?\n",
    "* What type of secondary dataset might be of interest to further support your nascent curiosity (predicting next month, year temperature, ...)?\n",
    "* Come up with additional 3 questions of your own you find relevant?"
   ]
  },
  {
   "cell_type": "code",
   "execution_count": 2,
   "metadata": {
    "collapsed": true
   },
   "outputs": [],
   "source": [
    "## Your code here\n"
   ]
  }
 ],
 "metadata": {
  "kernelspec": {
   "display_name": "Python 3",
   "language": "python",
   "name": "python3"
  },
  "language_info": {
   "codemirror_mode": {
    "name": "ipython",
    "version": 3
   },
   "file_extension": ".py",
   "mimetype": "text/x-python",
   "name": "python",
   "nbconvert_exporter": "python",
   "pygments_lexer": "ipython3",
   "version": "3.6.3"
  }
 },
 "nbformat": 4,
 "nbformat_minor": 2
}
