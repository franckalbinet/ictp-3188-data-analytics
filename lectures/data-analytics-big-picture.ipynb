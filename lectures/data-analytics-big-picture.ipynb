{
 "cells": [
  {
   "cell_type": "code",
   "execution_count": 1,
   "metadata": {
    "slideshow": {
     "slide_type": "notes"
    }
   },
   "outputs": [],
   "source": [
    "# To run this notebook as a reveal.js presentation, run the following command in notebook's folder:\n",
    "# `jupyter-nbconvert --to slides data-analytics-big-picture.ipynb --reveal-prefix=reveal.js --post serve`"
   ]
  },
  {
   "cell_type": "markdown",
   "metadata": {
    "slideshow": {
     "slide_type": "slide"
    }
   },
   "source": [
    "# DATA ANALYTICS ▶THE BIG PICTURE\n",
    "[franckalbinet@gmail.com](franckalbinet@gmail.com)"
   ]
  },
  {
   "cell_type": "markdown",
   "metadata": {
    "slideshow": {
     "slide_type": "slide"
    }
   },
   "source": [
    "# I. FOR WHAT PURPOSE?"
   ]
  },
  {
   "cell_type": "markdown",
   "metadata": {
    "slideshow": {
     "slide_type": "subslide"
    }
   },
   "source": [
    "![data-science-process.png](img/data-science-process.png)\n",
    "https://en.wikipedia.org/wiki/Data_science"
   ]
  },
  {
   "cell_type": "markdown",
   "metadata": {
    "slideshow": {
     "slide_type": "subslide"
    }
   },
   "source": [
    "## ▸ Why IoT & Data Science should be considered together?\n",
    "___\n",
    "\n",
    "1. Data Science without data is an empty shell\n",
    "2. Collecting tons of data as an end in itself is pointless\n",
    "3. Volume, velocity and variety of data being collected by IoT open new opportunity to Data Science\n",
    "4. Because there is a lot of hype around both fields"
   ]
  },
  {
   "cell_type": "markdown",
   "metadata": {
    "slideshow": {
     "slide_type": "subslide"
    }
   },
   "source": [
    "## ▸ IoT, Data Science, Human ecosystem\n",
    "\n",
    "* **IoT augments**, mimics this **sensing process**\n",
    "* **Data Science** augments, mimics this **representation process**\n",
    "* **Humans define objectives** and goals, give meaning and interpret based on current knowledge\n"
   ]
  },
  {
   "cell_type": "markdown",
   "metadata": {
    "slideshow": {
     "slide_type": "subslide"
    }
   },
   "source": [
    "## ▸ The value chain and the oil analogy\n",
    "\n",
    "* **\"Data is the new oil\"** repeated ad nauseam in the medias and the analogy is often carried further\n",
    "* **Upstream**: raw data is collected (data supply)\n",
    "* **Middlestream**: process of refining, cleaning, pre-processing, analyzing and modeling data\n",
    "* **Downstream**: delivering data products to end users\n",
    "* **Pipeline**: the value chain as a whole\n"
   ]
  },
  {
   "cell_type": "markdown",
   "metadata": {
    "slideshow": {
     "slide_type": "subslide"
    }
   },
   "source": [
    "## ▸ AN EXAMPLE OF QUALITY MONITORING SYSTEM"
   ]
  },
  {
   "cell_type": "markdown",
   "metadata": {
    "slideshow": {
     "slide_type": "subslide"
    }
   },
   "source": [
    "## ▸ IoT network senses\n",
    "\n",
    "* Particulate matter (PM)\n",
    "* CO2\n",
    "* SO2\n",
    "* ...\n"
   ]
  },
  {
   "cell_type": "markdown",
   "metadata": {
    "slideshow": {
     "slide_type": "subslide"
    }
   },
   "source": [
    "## ▸ Analytics pipeline fetches secondary data\n",
    "\n",
    "* Social networks\n",
    "* Meteorological forecasts\n",
    "* Crowd-sourced data\n",
    "\n",
    "\n",
    "*Example of crowd-sourced data: https://blog.safecast.org/*\n",
    "\n"
   ]
  },
  {
   "cell_type": "markdown",
   "metadata": {
    "slideshow": {
     "slide_type": "subslide"
    }
   },
   "source": [
    "## ▸ Analytics pipeline \"stirs\" data\n",
    "\n",
    "* Performs **spatial interpolation of measurements** with associated uncertainty\n",
    "* Performs **Sentiment Analysis** on social networks data\n",
    "* **Harnesses** Meteorological **forecasts**\n",
    "* And **outputs diagnosis / prognosis**"
   ]
  },
  {
   "cell_type": "markdown",
   "metadata": {
    "slideshow": {
     "slide_type": "subslide"
    }
   },
   "source": [
    "## ▸ Decision Makers ... \n",
    "\n",
    "* **Interpret Data** Science pipeline outputs in a wider context\n",
    "* Control road traffic, enforce restriction use, ...\n",
    "* Provide feedbacks to improve the whole value chain if required\n"
   ]
  },
  {
   "cell_type": "markdown",
   "metadata": {
    "slideshow": {
     "slide_type": "subslide"
    }
   },
   "source": [
    "## ▸ Why Decision Makers have the last word?\n",
    "\n",
    "1. They understand the overall context: risk, uncertainty, not modelled parameters, ...\n",
    "2. They can decide when to inject additionnal domain knowledge into the pipeline\n",
    "3. They are the bosses!\n"
   ]
  },
  {
   "cell_type": "markdown",
   "metadata": {
    "slideshow": {
     "slide_type": "slide"
    }
   },
   "source": [
    "# II. HOW ▸ ARCHITECTURAL CONSIDERATIONS"
   ]
  },
  {
   "cell_type": "markdown",
   "metadata": {
    "slideshow": {
     "slide_type": "subslide"
    }
   },
   "source": [
    "## ▸ Once a task at hand\n",
    "\n",
    "* **What** type of analytics, algorithms, ...?\n",
    "* **When** to perform calculation?\n",
    "* **Where** to perform calculation and store data [if required]?\n"
   ]
  },
  {
   "cell_type": "markdown",
   "metadata": {
    "slideshow": {
     "slide_type": "subslide"
    }
   },
   "source": [
    "## ▸ Use case and domain knowledge first\n",
    "\n",
    "* What is the use case?\n",
    "* What decision do we want to make?\n",
    "* Which data will support the decision?\n",
    "* What are the resources (financial, human, technical)?\n",
    "\n",
    "*As opposed to “let’s collect everything we can, then we will see what we can do with it” syndrom*\n"
   ]
  },
  {
   "cell_type": "markdown",
   "metadata": {
    "slideshow": {
     "slide_type": "subslide"
    }
   },
   "source": [
    "## ▸ Storing or not storing\n",
    "\n",
    "* Store, persist, accrue data over time in a **\"Data Lake\"**\n",
    "* Discard data once harnessed by the analytics pipeline: **\"Stream Analytics\"**\n"
   ]
  },
  {
   "cell_type": "markdown",
   "metadata": {
    "slideshow": {
     "slide_type": "subslide"
    }
   },
   "source": [
    "## ▸ Delegating or centralizing\n",
    "\n",
    "* Computing load can balanced/spread across network topology\n",
    "* When computing takes place at the edge of the network, this is called **Edge Computing**\n",
    "* Both simple and complex computing taks can be performed at the edge\n",
    "\n",
    "[http://www.nvidia.co.uk/object/embedded-systems-dev-kits-modules-uk.html](http://www.nvidia.co.uk/object/embedded-systems-dev-kits-modules-uk.html)"
   ]
  },
  {
   "cell_type": "markdown",
   "metadata": {
    "slideshow": {
     "slide_type": "subslide"
    }
   },
   "source": [
    "## ▸ Learning vs. predicting\n",
    "\n",
    "\n",
    "* **Training phases** of algorithms might require considerable resources (Neural Networks)\n",
    "* But once trained, the **prediction phase** requires few resources"
   ]
  },
  {
   "cell_type": "markdown",
   "metadata": {
    "slideshow": {
     "slide_type": "subslide"
    }
   },
   "source": [
    "## ▸ Quiz\n",
    "\n",
    "1. There is a common architecture standard for IoT/Data science technical implementations\n",
    "2. Big data infrastructures is most of the time required\n",
    "3. Training artificial Neural Network is resource intensive, predicting/using it is not\n",
    "4. Targeted use cases drive type and quantity of data to be collected\n"
   ]
  },
  {
   "cell_type": "markdown",
   "metadata": {
    "slideshow": {
     "slide_type": "slide"
    }
   },
   "source": [
    "# III. HOW ▸ ALGORITHMIC CONSIDERATIONS"
   ]
  },
  {
   "cell_type": "markdown",
   "metadata": {
    "slideshow": {
     "slide_type": "subslide"
    }
   },
   "source": [
    "## ▸ Data taxonomy\n",
    "\n",
    "* **QUANTITATIVE** vs **QUALITATIVE**\n",
    "* **STRUCTURED** vs **UNSTRUCTURED**"
   ]
  },
  {
   "cell_type": "markdown",
   "metadata": {
    "slideshow": {
     "slide_type": "subslide"
    }
   },
   "source": [
    "## ▸ Keep data alive\n",
    "\n",
    "* There is **no ideal structure** for data\n",
    "* All **depends on purpose** of use\n",
    "* BUT in all cases, every cleaning or transformation steps should be **reproducible and automated**\n"
   ]
  },
  {
   "cell_type": "markdown",
   "metadata": {
    "slideshow": {
     "slide_type": "subslide"
    }
   },
   "source": [
    "## ▸ Data wrangling, mungling\n",
    "\n",
    "> \"… is the process of transforming and mapping data from one “raw” data form into another format with the intent of making it  more appropriate and valuable for a variety of downstream purposes such as analytics” \n",
    "\n",
    "https://en.wikipedia.org/wiki/Data_wrangling"
   ]
  },
  {
   "cell_type": "markdown",
   "metadata": {
    "slideshow": {
     "slide_type": "subslide"
    }
   },
   "source": [
    "## ▸ What is \"raw\", primary data?\n",
    "___\n",
    "\n",
    "* **Data collected from a source** (for instance a sensor, data entry clerk, …)\n",
    "* Has **not been subject to prior processing**\n",
    "* **BUT IS RELATIVE**: data constantly re-aligned to analysis, predictive goals "
   ]
  },
  {
   "cell_type": "markdown",
   "metadata": {
    "slideshow": {
     "slide_type": "notes"
    }
   },
   "source": [
    "* Ex: Temperature sensors sending data -> might have systematic bias that could be corrected based on other stations, … detection errors mechanism (checksum) might reveal that some of the data transmitter are corrupted, so need to remove them, …\n",
    "* Data entry clercks and spelling mistakes, …\n",
    "* Prior processing: automatically by a program, manually by an analyst, researcher, …\n",
    "* Depending pre-processed data (clean , reshaped, …) for one purpose might not be suitable for another one. In reality, data should be considered as a living entity rather than something set in stone, constantly re-aligned to the needs (that’s reflected by the variety of techniques  in data wrangling, versatility of tools, and Big Data tool ecosystem"
   ]
  },
  {
   "cell_type": "markdown",
   "metadata": {
    "slideshow": {
     "slide_type": "subslide"
    }
   },
   "source": [
    "## ▸ Some typical data cleaning tasks\n",
    "\n",
    "* Handling **missing data**\n",
    "* Handling **duplicate data**\n",
    "* String manipulation (to fix typos, ...)\n",
    "* ...\n"
   ]
  },
  {
   "cell_type": "markdown",
   "metadata": {
    "slideshow": {
     "slide_type": "subslide"
    }
   },
   "source": [
    "## ▸ Some typical data preparation tasks\n",
    "\n",
    "* Replacing values, binning, indexing, combining, reshaping, ...\n",
    "* Joining, merging, pivoting, stacking with quantitative data exploration in mind\n",
    "* Performing feature engineering\n",
    "* ..."
   ]
  },
  {
   "cell_type": "markdown",
   "metadata": {
    "slideshow": {
     "slide_type": "subslide"
    }
   },
   "source": [
    "## ▸ In reality ...\n",
    "___\n",
    "\n",
    "* Data cleaning and preparation is **often reported to take up 80% or more** of a data scientist’s time\n",
    "* SO, The whole process **MUST BE automated and reproducible**\n"
   ]
  },
  {
   "cell_type": "markdown",
   "metadata": {
    "slideshow": {
     "slide_type": "subslide"
    }
   },
   "source": [
    "## ▸ Exploratory Data Analysis [EDA]\n"
   ]
  },
  {
   "cell_type": "markdown",
   "metadata": {
    "slideshow": {
     "slide_type": "subslide"
    }
   },
   "source": [
    "## ▸ EDA motivation\n",
    "\n",
    "* To get acquainted **gain insights** on \"never-seen\" dataset\n",
    "* To **check assumptions** required by modeling approaches\n",
    "* To identify **potential correlation** between variables\n",
    "* To identify **potential similarities and clusters**\n",
    "* ..."
   ]
  },
  {
   "cell_type": "markdown",
   "metadata": {
    "slideshow": {
     "slide_type": "subslide"
    }
   },
   "source": [
    "## ▸ EDA as a detective work\n",
    "\n",
    "* In its tabular form, data is **not really conducive to interpretation**\n",
    "* Quest is to **find the \"angle of view\"** that will suddenly reveal never expected properties\n",
    "* But it is a **subtle game** and require careful interpretation and critical thinking\n"
   ]
  },
  {
   "cell_type": "markdown",
   "metadata": {
    "slideshow": {
     "slide_type": "subslide"
    }
   },
   "source": [
    "## ▸ Does correlation imply causation?\n",
    "___\n",
    "\n",
    "![correlation.png](img/correlation.png)\n",
    "\n",
    "\n",
    "https://www.xkcd.com/552/\n",
    "\n"
   ]
  },
  {
   "cell_type": "markdown",
   "metadata": {
    "slideshow": {
     "slide_type": "subslide"
    }
   },
   "source": [
    "## ▸ Why quantitative AND graphical EDA?\n",
    "\n",
    "![anscombe-quartet.png](img/anscombe-quartet.png)\n"
   ]
  },
  {
   "cell_type": "markdown",
   "metadata": {
    "slideshow": {
     "slide_type": "subslide"
    }
   },
   "source": [
    "## ▸  Identifying clusters/patterns\n",
    "\n",
    "\n",
    "![kmeans-final-clustering.png](img/kmeans-final-clustering.png)\n",
    "\n",
    "https://github.com/rasbt/python-machine-learning-book"
   ]
  },
  {
   "cell_type": "markdown",
   "metadata": {
    "slideshow": {
     "slide_type": "subslide"
    }
   },
   "source": [
    "## ▸  Spatializing:  # measurements Safecast - World\n",
    "\n",
    "\n",
    "![safecast-world.png](img/safecast-world.png)\n",
    "\n",
    "https://www.kaggle.com/franckalbinet/safecast-exploratory-data-analysis-part-i"
   ]
  },
  {
   "cell_type": "markdown",
   "metadata": {
    "slideshow": {
     "slide_type": "subslide"
    }
   },
   "source": [
    "## ▸  Spatializing:  # measurements Safecast - Japan\n",
    "\n",
    "\n",
    "![safecast-jpn.png](img/safecast-jpn.png)\n",
    "\n",
    "https://www.kaggle.com/franckalbinet/safecast-exploratory-data-analysis-part-i"
   ]
  },
  {
   "cell_type": "markdown",
   "metadata": {
    "slideshow": {
     "slide_type": "subslide"
    }
   },
   "source": [
    "## ▸ Predicting with Machine/Deep Learning"
   ]
  },
  {
   "cell_type": "markdown",
   "metadata": {
    "slideshow": {
     "slide_type": "subslide"
    }
   },
   "source": [
    "## ▸  Explanatory versus predictive goals\n",
    "\n",
    "\n",
    "* In many disciplines, there is a near-exclusive use of **statistical modeling for causal explanation**;\n",
    "* With the **assumption** that models with high explanatory power are inherently of high predictive power;\n",
    "* In Machine and Deep Learning **focus is given instead in predictive power** based on monitored chosen evaluation metrics."
   ]
  },
  {
   "cell_type": "markdown",
   "metadata": {
    "slideshow": {
     "slide_type": "subslide"
    }
   },
   "source": [
    "## ▸ Finding the \"best\" line \n",
    "\n",
    "![regression-which-line.png](img/regression-which-line.png)\n"
   ]
  },
  {
   "cell_type": "markdown",
   "metadata": {
    "slideshow": {
     "slide_type": "subslide"
    }
   },
   "source": [
    "## ▸ The Best line with residuals\n",
    "\n",
    "![regression-best-line-errors.png](img/regression-best-line-errors.png)\n"
   ]
  },
  {
   "cell_type": "markdown",
   "metadata": {
    "slideshow": {
     "slide_type": "subslide"
    }
   },
   "source": [
    "## ▸ Model capacity: the best line\n",
    "\n",
    "![best-line-really.png](img/best-line-really.png)\n",
    "\n",
    " "
   ]
  },
  {
   "cell_type": "markdown",
   "metadata": {
    "slideshow": {
     "slide_type": "subslide"
    }
   },
   "source": [
    "## ▸ Fiddling with model capacity\n",
    "\n",
    "![polynomial-1-2-100.png](img/polynomial-1-2-100.png)\n",
    "\n",
    " "
   ]
  },
  {
   "cell_type": "markdown",
   "metadata": {
    "slideshow": {
     "slide_type": "subslide"
    }
   },
   "source": [
    "## ▸  That's all good but how to choose the right model capacity?\n",
    "\n",
    "\n",
    "![machine_learning.png](img/machine_learning.png)\n",
    "\n",
    "\n",
    "https://xkcd.com/1838/\n",
    "\n"
   ]
  },
  {
   "cell_type": "markdown",
   "metadata": {
    "slideshow": {
     "slide_type": "subslide"
    }
   },
   "source": [
    "## ▸ Regularization as a \"wood chisel\"\n",
    "\n",
    "* Each hypothesis space is more or less prone to overfitting\n",
    "* When overfitting, ideally we would like a \"knob\" allowing to **regularize** it\n",
    "* The **sequence Overfit -> Regularize** with training/validation/test datasets is our **\"wood chisel\"** to find and fine-tune the proper model\n",
    "* Let's talk about that tonight at Adriatico?\n",
    "\n",
    "https://en.wikipedia.org/wiki/Occam%27s_razor\n"
   ]
  },
  {
   "cell_type": "markdown",
   "metadata": {
    "slideshow": {
     "slide_type": "subslide"
    }
   },
   "source": [
    "## ▸ Deep Neural Networks can virtually fit anything\n",
    "\n",
    "\n",
    "![tf-deep-neural-net-to-the-rescue.png](img/tf-deep-neural-net-to-the-rescue.png)\n",
    "\n",
    "\n",
    "http://playground.tensorflow.org/ (with settings used: https://goo.gl/6BJ83E)\n"
   ]
  },
  {
   "cell_type": "markdown",
   "metadata": {
    "slideshow": {
     "slide_type": "subslide"
    }
   },
   "source": [
    "## ▸ Object Detection - YOLO example\n",
    "\n",
    "![yolo.png](img/yolo.png)\n",
    "\n",
    "https://pjreddie.com/darknet/yolo/"
   ]
  },
  {
   "cell_type": "markdown",
   "metadata": {
    "slideshow": {
     "slide_type": "slide"
    }
   },
   "source": [
    "# II. THE TOOLS & RESOURCES"
   ]
  },
  {
   "cell_type": "markdown",
   "metadata": {
    "slideshow": {
     "slide_type": "subslide"
    }
   },
   "source": [
    "> **\"Debugging is twice as hard as writing the code in the first place. Therefore, if you write the code as cleverly as possible, you are, by definition, not smart enough to debug it.\"**\n",
    "\n",
    "—Brian W. Kernighan, co-author of The C Programming Language and the \"K\" in \"AWK\"\n"
   ]
  },
  {
   "cell_type": "markdown",
   "metadata": {
    "slideshow": {
     "slide_type": "subslide"
    }
   },
   "source": [
    "## ▸ Python [possible] ecosystem for Data Analytics\n",
    "\n",
    "![tools.png](img/tools.png)"
   ]
  },
  {
   "cell_type": "markdown",
   "metadata": {
    "slideshow": {
     "slide_type": "subslide"
    }
   },
   "source": [
    "## ▸ Outstanding Python reference books [companion notebooks]\n",
    "\n",
    "![python-reference-books.png](img/python-reference-books.png)\n",
    "\n",
    "* https://github.com/wesm/pydata-book\n",
    "* https://github.com/ageron/handson-ml\n",
    "* https://github.com/fchollet/deep-learning-with-python-notebooks\n"
   ]
  },
  {
   "cell_type": "markdown",
   "metadata": {
    "slideshow": {
     "slide_type": "subslide"
    }
   },
   "source": [
    "## ▸ Outstanding R reference books [free books]\n",
    "\n",
    "![R-reference-books.png](img/R-reference-books.png)\n",
    "\n",
    "* http://r4ds.had.co.nz/\n",
    "* http://adv-r.had.co.nz/\n",
    "* http://r-pkgs.had.co.nz/"
   ]
  },
  {
   "cell_type": "markdown",
   "metadata": {
    "slideshow": {
     "slide_type": "subslide"
    }
   },
   "source": [
    "## ▸ Outstanding online courses\n",
    "\n",
    "* https://www.coursera.org/learn/machine-learning\n",
    "* https://www.deeplearning.ai/\n",
    "* http://www.fast.ai/\n",
    "* https://www.datacamp.com/courses\n",
    "* ..."
   ]
  },
  {
   "cell_type": "markdown",
   "metadata": {
    "slideshow": {
     "slide_type": "subslide"
    }
   },
   "source": [
    "## ▸ A diversity of approaches but all good!\n",
    "\n",
    "![dl-learning-resources.png](img/dl-learning-resources.png)"
   ]
  },
  {
   "cell_type": "markdown",
   "metadata": {
    "slideshow": {
     "slide_type": "slide"
    }
   },
   "source": [
    "# IV. HANDS-ON SESSIONS INTRO."
   ]
  },
  {
   "cell_type": "markdown",
   "metadata": {
    "slideshow": {
     "slide_type": "subslide"
    }
   },
   "source": [
    "## ▸ In medias res\n",
    "\n",
    "1. Install minimal technology stack\n",
    "2. You will be given a series of resources on NumPy, Pandas, ...\n",
    "3. Will define together achievable data analysis objectives\n",
    "4. Take the form of a Hackaton\n",
    "\n",
    "*Form balanced teams!*"
   ]
  },
  {
   "cell_type": "markdown",
   "metadata": {
    "slideshow": {
     "slide_type": "subslide"
    }
   },
   "source": [
    "## ▸ Questions\n",
    "\n",
    "* Who has previous experience in NumPy and Pandas?\n",
    "* Who has previous experience in Git and GitHub?\n"
   ]
  },
  {
   "cell_type": "markdown",
   "metadata": {
    "slideshow": {
     "slide_type": "subslide"
    }
   },
   "source": [
    "## ▸ Supporting notebooks\n",
    "\n",
    "* `resources/python-language-essentials-for-data-science.ipynb`\n",
    "* `resources/data-cleaning-and-preparation.ipynb`\n",
    "* more coming ...\n",
    "\n",
    "Toolbox install: `hands-on-sessions/README.md`"
   ]
  }
 ],
 "metadata": {
  "celltoolbar": "Slideshow",
  "kernelspec": {
   "display_name": "Python 3",
   "language": "python",
   "name": "python3"
  },
  "language_info": {
   "codemirror_mode": {
    "name": "ipython",
    "version": 3
   },
   "file_extension": ".py",
   "mimetype": "text/x-python",
   "name": "python",
   "nbconvert_exporter": "python",
   "pygments_lexer": "ipython3",
   "version": "3.6.5"
  }
 },
 "nbformat": 4,
 "nbformat_minor": 2
}
