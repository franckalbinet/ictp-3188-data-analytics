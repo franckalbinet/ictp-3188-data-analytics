{
 "cells": [
  {
   "cell_type": "code",
   "execution_count": 3,
   "metadata": {
    "slideshow": {
     "slide_type": "notes"
    }
   },
   "outputs": [],
   "source": [
    "# To run this notebook as a reveal.js presentation, run the following command in notebook's folder:\n",
    "# `jupyter-nbconvert --to slides data-visualization-mapping.ipynb --reveal-prefix=reveal.js --post serve`"
   ]
  },
  {
   "cell_type": "markdown",
   "metadata": {
    "slideshow": {
     "slide_type": "slide"
    }
   },
   "source": [
    "# DATA VIS. ▶THE BIG PICTURE\n",
    "[franckalbinet@gmail.com](franckalbinet@gmail.com)"
   ]
  },
  {
   "cell_type": "markdown",
   "metadata": {
    "slideshow": {
     "slide_type": "slide"
    }
   },
   "source": [
    "# I. FOR WHAT PURPOSE?"
   ]
  },
  {
   "cell_type": "markdown",
   "metadata": {
    "slideshow": {
     "slide_type": "subslide"
    }
   },
   "source": [
    "## ▸ Exploratory Data Analysis\n",
    "\n",
    "1. To identify correlation, outliers, patterns, ...\n",
    "2. To formulate hypothesis and to further inform your modeling\n",
    "3. To gain new and unexpected insights\n",
    "\n",
    "*Heuristic and highly iterative process*"
   ]
  },
  {
   "cell_type": "markdown",
   "metadata": {
    "slideshow": {
     "slide_type": "subslide"
    }
   },
   "source": [
    "## ▸ Data Viz as an end in itself\n",
    "* You might have seen compelling data viz. products in then New York Times, The Guardian, ...\n",
    "* Often the fruit of an intense collaborative within a multi-disciplinary team\n",
    "* Should use means and knowledge to the level of the message you want to convey\n",
    "* Data Viz for EDA has different goals\n",
    "\n",
    "http://fr.anckalbi.net/child-cash-grant\n",
    "\n",
    "How to lie with maps: http://press.uchicago.edu/ucp/books/book/chicago/H/bo3696845.html"
   ]
  },
  {
   "cell_type": "markdown",
   "metadata": {
    "slideshow": {
     "slide_type": "subslide"
    }
   },
   "source": [
    "## ▸ Data Viz for decision making\n",
    "\n",
    "* Decision Support Making System\n",
    "* Example of Nuclear Emergency Response\n",
    "\n",
    "https://franckalbinet.shinyapps.io/food_restriction_dashboard/\n",
    "http://fr.anckalbi.net/collect-logmap/\n"
   ]
  },
  {
   "cell_type": "markdown",
   "metadata": {
    "slideshow": {
     "slide_type": "slide"
    }
   },
   "source": [
    "# II. Semiology of Graphics Primer"
   ]
  },
  {
   "cell_type": "markdown",
   "metadata": {
    "slideshow": {
     "slide_type": "subslide"
    }
   },
   "source": [
    "## ▸ Data viz. design space is huge\n",
    "___\n",
    "\n",
    "![hundred-diff-graphics.png](img/hundred-diff-graphics.png)\n",
    "\n",
    "\n",
    "https://python-graph-gallery.com\n",
    "\n",
    "http://www.perceptualedge.com/\n"
   ]
  },
  {
   "cell_type": "markdown",
   "metadata": {
    "slideshow": {
     "slide_type": "subslide"
    }
   },
   "source": [
    "## ▸ Data viz. touchstone\n",
    "___\n",
    "\n",
    "* How to assess the **relevance of a particular data visualization**?\n",
    "* Is there such things as **good or bad data visualizations**?\n",
    "* Data Viz. is **not new**\n",
    "* **\"Semiology Of Graphics\"**, J. Bertin, 1967\n",
    "\n",
    "\n",
    "https://en.wikipedia.org/wiki/Jacques_Bertin\n",
    "\n",
    "https://www.crcpress.com/Visualization-Analysis-and-Design/Munzner/p/book/9781466508910\n"
   ]
  },
  {
   "cell_type": "markdown",
   "metadata": {
    "slideshow": {
     "slide_type": "subslide"
    }
   },
   "source": [
    "## ▸ Notions of Semiology Of Graphics\n",
    "___\n",
    "\n",
    "* **Marks** are basic geometric elements and **channels** control their appearance\n",
    "* **Effective channels** should reflect/match the magnitude of information of your data\n",
    "* For instance, **Length channel effectively convey** variation of quantitative data. **Color Hue** channel **does not**\n",
    "\n",
    "https://vimeo.com/26205288\n",
    "\n",
    "https://www.cs.ubc.ca/~tmm/talks/minicourse14/vad15seattle-4x4.pdf"
   ]
  },
  {
   "cell_type": "markdown",
   "metadata": {
    "slideshow": {
     "slide_type": "subslide"
    }
   },
   "source": [
    "## ▸ Channels: Rankings\n",
    "___\n",
    "\n",
    "![channel-ranking.png](img/channel-ranking.png)\n",
    "\n",
    "\n",
    "https://www.crcpress.com/Visualization-Analysis-and-Design/Munzner/p/book/9781466508910\n",
    "\n",
    "http://vda.univie.ac.at/Teaching/Vis/13s/LectureNotes/05_visual_encodings.pdf\n",
    "\n",
    "http://www.perceptualedge.com/articles/visual_business_intelligence/the_visual_perception_of_variation.pdf"
   ]
  },
  {
   "cell_type": "markdown",
   "metadata": {
    "slideshow": {
     "slide_type": "subslide"
    }
   },
   "source": [
    "## ▸ Channel efficiency: comparing area\n",
    "___\n",
    "\n",
    "![area-circles.png](img/area-circles.png)\n",
    "\n",
    "Compare Areas of circles: how much bigger is the second circle?"
   ]
  },
  {
   "cell_type": "markdown",
   "metadata": {
    "slideshow": {
     "slide_type": "subslide"
    }
   },
   "source": [
    "## ▸ Channel efficiency: comparing length\n",
    "\n",
    "![bar-lengths.png](img/bar-lengths.png)\n",
    "\n",
    "\n",
    "What is the relative length of these bars?"
   ]
  },
  {
   "cell_type": "markdown",
   "metadata": {
    "slideshow": {
     "slide_type": "subslide"
    }
   },
   "source": [
    "## ▸ Channel efficiency: Answer\n",
    "\n",
    "\n",
    "![bar-lengths-truth.png](img/bar-lengths-truth.png)\n",
    "\n",
    "Biggest circle area was 7 times bigger as was the longer bar!\n",
    "\n",
    "Which channel was most efficient, accurate? Required the least amount of cognitive load?"
   ]
  },
  {
   "cell_type": "markdown",
   "metadata": {
    "slideshow": {
     "slide_type": "subslide"
    }
   },
   "source": [
    "## ▸ Some remarks on color use\n",
    "\n",
    "> \"For some reason, as soon as color is applied to a map the color becomes a focus of criticism, and everyone, regardless of his familiarity with the principles of color use, seems to feel that he is entitled to comment upon the color on the basis of his own likes and dislikes\"\n",
    "\n",
    "-Arthur H. Robinson, in 1952"
   ]
  },
  {
   "cell_type": "markdown",
   "metadata": {
    "slideshow": {
     "slide_type": "subslide"
    }
   },
   "source": [
    "## ▸ Some remarks on color use\n",
    "\n",
    "* Choosing colors is **not a matter of personal taste**\n",
    "* **Color channels**: Hue, Luminance and Saturation have **their own functions**\n",
    "* **Follow best practices**: http://colorbrewer2.org/\n",
    "\n",
    "\n",
    "*http://colorbrewer2.org/*\n",
    "\n",
    "*http://www.perceptualedge.com/articles/visual_business_intelligence/rules_for_using_color.pdf*\n",
    "\n",
    "*http://web.archive.org/web/20131019161245/http://www.sv.vt.edu/~rkriz/Projects/create_color_table/color_07.pdf*\n"
   ]
  },
  {
   "cell_type": "markdown",
   "metadata": {
    "slideshow": {
     "slide_type": "subslide"
    }
   },
   "source": [
    "## ▸ Quiz\n",
    "\n",
    "1. Data visualization is a fairly recent research field\n",
    "2. Position on common scale is more efficient than area channel for quantitative data\n",
    "3. Color hue channel should be used for qualitative data only\n",
    "4. Choosing colors for your data visualization is really a matter of taste"
   ]
  },
  {
   "cell_type": "markdown",
   "metadata": {
    "slideshow": {
     "slide_type": "subslide"
    }
   },
   "source": [
    "## ▸ \"One\" word about maps and projection\n",
    "\n",
    "* *https://www.jasondavies.com/maps/transition/*\n",
    "\n",
    "* *http://www.progonos.com/furuti/MapProj/Normal/TOC/cartTOC.html*"
   ]
  }
 ],
 "metadata": {
  "celltoolbar": "Slideshow",
  "kernelspec": {
   "display_name": "Python 3",
   "language": "python",
   "name": "python3"
  },
  "language_info": {
   "codemirror_mode": {
    "name": "ipython",
    "version": 3
   },
   "file_extension": ".py",
   "mimetype": "text/x-python",
   "name": "python",
   "nbconvert_exporter": "python",
   "pygments_lexer": "ipython3",
   "version": "3.6.5"
  }
 },
 "nbformat": 4,
 "nbformat_minor": 2
}
